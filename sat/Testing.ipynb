{
 "cells": [
  {
   "cell_type": "code",
   "execution_count": 357,
   "id": "7ba52443",
   "metadata": {},
   "outputs": [],
   "source": [
    "import argparse\n",
    "\n",
    "import numpy as np\n",
    "import matplotlib.pyplot as plt\n",
    "import matplotlib.patches as patches\n",
    "import matplotlib as mpl\n",
    "from matplotlib.collections import PatchCollection\n",
    "\n",
    "import random\n",
    "\n",
    "#python scripts\\visualize.py solution-ins-12.txt\n",
    "\n",
    "def visualize(w, l, n, dims, coords):\n",
    "    coordsX = [coords[i][0] for i in range(n)]\n",
    "    coordsY = [coords[i][1] for i in range(n)]\n",
    "    # print(w, l, n, dims, coordsX, coordsY)\n",
    "\n",
    "    fig = plt.figure()\n",
    "    ax = fig.add_subplot(111)\n",
    "\n",
    "    plt.xlim(0, w)\n",
    "    plt.ylim(0, l)\n",
    "    plt.grid(True, color='black')\n",
    "\n",
    "    myPatches = []\n",
    "    # myColors = []\n",
    "\n",
    "    for i in range(n):\n",
    "        xi_hat = coordsX[i]\n",
    "        yi_hat = coordsY[i]\n",
    "        xi = dims[i][0]\n",
    "        yi = dims[i][1]\n",
    "\n",
    "        r = patches.Rectangle((xi_hat, yi_hat), xi, yi)\n",
    "        myPatches.append(r)\n",
    "\n",
    "    collection = PatchCollection(myPatches, cmap=mpl.cm.hsv, alpha=0.5, edgecolor='black', linewidth=4)\n",
    "    collection.set_array(np.linspace(0, 254, n, dtype=int))\n",
    "    #print(np.linspace(0, 200, n, dtype=int))\n",
    "    collection.set_clim([0, 255])\n",
    "    ax.add_collection(collection)\n",
    "\n",
    "    plt.xticks(range(w+1))\n",
    "    plt.yticks(range(l+1))\n",
    "\n",
    "    plt.gca().set_aspect('equal', adjustable='box')\n",
    "\n",
    "    # fig.savefig('figure.png')\n",
    "    plt.show()"
   ]
  },
  {
   "cell_type": "code",
   "execution_count": 310,
   "id": "ff073da6",
   "metadata": {},
   "outputs": [],
   "source": [
    "w = 8\n",
    "n = 4\n",
    "dims = [[3, 3],\n",
    "        [3, 5],\n",
    "        [5, 3],\n",
    "        [5, 5]]\n",
    "dimsX = [dims[i][0] for i in range(n)]\n",
    "dimsY = [dims[i][1] for i in range(n)]"
   ]
  },
  {
   "cell_type": "code",
   "execution_count": 311,
   "id": "fe56a2f4",
   "metadata": {},
   "outputs": [
    {
     "name": "stdout",
     "output_type": "stream",
     "text": [
      "[3, 3, 5, 5]\n",
      "[3, 5, 3, 5]\n"
     ]
    }
   ],
   "source": [
    "print(dimsX)\n",
    "print(dimsY)"
   ]
  },
  {
   "cell_type": "code",
   "execution_count": 312,
   "id": "40449d33",
   "metadata": {},
   "outputs": [],
   "source": [
    "from z3 import *\n",
    "from itertools import combinations"
   ]
  },
  {
   "cell_type": "code",
   "execution_count": 313,
   "id": "fd989e7b",
   "metadata": {},
   "outputs": [],
   "source": [
    "def at_least_one(B):\n",
    "    return Or(B)\n",
    "def at_most_one(B, name=\"\"):\n",
    "    return And( [Not(And(pair[0], pair[1])) for pair in combinations(B, 2)] )\n",
    "\"\"\"def at_most_one(B, name=\"\"):\n",
    "    # List which will contain all the formulas for the at_most_one constraint\n",
    "    formulas_list = []\n",
    "    \n",
    "    n = len(B)  # Number of variables\n",
    "    \n",
    "    # Defining the new variables (Note: the indeces start from 0)\n",
    "    s = [Bool(f's_{name}_{i}') for i in range(n-1)]\n",
    "    \n",
    "    # LET'S ADD THE FORMULAS, ONE AT A TIME\n",
    "    \n",
    "    # First formula\n",
    "    formulas_list.append( Or(Not(B[0]), s[0]) )\n",
    "    \n",
    "    # Second formula\n",
    "    formulas_list.append( Or(Not(B[n-1]), Not(s[n-2])) )\n",
    "    \n",
    "    # Third big formula\n",
    "    for i in range(1, n-1):\n",
    "        formula = And( Or(Not(B[i]),s[i]), Or(Not(s[i-1]),s[i]), Or(Not(B[i]),Not(s[i-1])) )\n",
    "        formulas_list.append(formula)\n",
    "        \n",
    "    # Return the conjunction among all the added formulas\n",
    "    return And(formulas_list)\"\"\"\n",
    "def exactly_one(B, name=''):\n",
    "    return And(at_least_one(B), at_most_one(B, name=name))"
   ]
  },
  {
   "cell_type": "code",
   "execution_count": 314,
   "id": "6c8d749e",
   "metadata": {},
   "outputs": [],
   "source": [
    "class UnsatError(BaseException):\n",
    "    pass"
   ]
  },
  {
   "cell_type": "code",
   "execution_count": 386,
   "id": "c1772b2c",
   "metadata": {},
   "outputs": [],
   "source": [
    "def vlsi_sat(w, n, dimsX, dimsY, formulas=[]):\n",
    "    s = Solver()\n",
    "    s.add(And(formulas))\n",
    "    \n",
    "    l_max = sum(dimsY)\n",
    "    #print(f'l_max {l_max}')\n",
    "    #print()\n",
    "    \n",
    "    circuits = [[[Bool(f'circuit_{i}_{j}_{k}') for k in range(n)] for j in range(l_max)] for i in range(w)]\n",
    "    coords = [[[Bool(f'coord_{i}_{j}_{k}') for k in range(n)] for j in range(l_max)] for i in range(w)]\n",
    "    #coordsY = [[[Bool('coordY_{i}_{j}_{k}') for k in range(n)] for j in range(l_max)] for i in range(w)]\n",
    "    \n",
    "    for i in range(w):\n",
    "        for j in range(l_max):\n",
    "            s.add(at_most_one(circuits[i][j], name=f'at_most_one_circuit_{i}_{j}'))\n",
    "            s.add(at_most_one(coords[i][j], name=f'at_most_one_coord_{i}_{j}'))\n",
    "            \n",
    "    for k in range(n):\n",
    "        s.add(exactly_one([coords[i][j][k] for i in range(w) for j in range(l_max)], name=f'exactly_one_{k}'))\n",
    "            \n",
    "    for k in range(n):\n",
    "        for i in range(w):\n",
    "            for j in range(l_max):\n",
    "                #print(f'k {k} i {i} j {j}')\n",
    "                if i+dimsX[k]-1>=w or j+dimsY[k]-1>=l_max:\n",
    "                    s.add(Not(coords[i][j][k]))\n",
    "                    continue\n",
    "                right_positions = [(i+ii,j+jj) for ii in range(dimsX[k]) for jj in range(dimsY[k])]\n",
    "                #print(right_positions)\n",
    "                #wrong_positions = sorted(list(set([(i,j) for i in range(w) for j in range(l_max)]) - set(right_positions)))\n",
    "                #print(wrong_positions)\n",
    "                ##all_right_pos = And([circuits[ii][jj][k] for (ii,jj) in right_positions])\n",
    "                #no_wrong_pos = And([Not(circuits[ii][jj][k]) for (ii,jj) in wrong_positions])\n",
    "                \n",
    "                #s.add(Implies(coords[i][j][k], And(all_right_pos, no_wrong_pos)))\n",
    "                formula1 = And([Not(circuits[ii][jj][kk]) for (ii,jj) in right_positions for kk in range(n) if kk!=k])\n",
    "                formula2 = And([circuits[ii][jj][k] for (ii,jj) in right_positions ])\n",
    "                #s.add(Implies(coords[i][j][k], formula))\n",
    "                s.add(coords[i][j][k] == And(formula1,formula2))\n",
    "                #print()\n",
    "                \n",
    "    #s.add(at_least_one(lengths))\n",
    "                \n",
    "    if s.check() != sat:\n",
    "        raise UnsatError()\n",
    "    \n",
    "    # return s\n",
    "    #if s.check() == sat:\n",
    "    m = s.model()\n",
    "    #print(m[coords[1][1][1]])\n",
    "    #return m\n",
    "\n",
    "    coords_sol = [(i, j, k) for k in range(n) for j in range(l_max) for i in range(w) if m.evaluate(coords[i][j][k])]\n",
    "    formula = And([ (coords[i][j][k] if m.evaluate(coords[i][j][k]) else Not(coords[i][j][k])) for i in range(w) for j in range(l_max) for k in range(n)])\n",
    "    return coords_sol, formula\n",
    "    #else:\n",
    "    #    return \"Unsat\" "
   ]
  },
  {
   "cell_type": "code",
   "execution_count": 387,
   "id": "d0cb2fd7",
   "metadata": {},
   "outputs": [
    {
     "name": "stdout",
     "output_type": "stream",
     "text": [
      "Wall time: 3.74 s\n"
     ]
    }
   ],
   "source": [
    "%%time\n",
    "coords_sol, formula = vlsi_sat(w, n, dimsX, dimsY)"
   ]
  },
  {
   "cell_type": "code",
   "execution_count": 388,
   "id": "26244607",
   "metadata": {},
   "outputs": [
    {
     "data": {
      "image/png": "[encoded data removed]",
      "text/plain": [
       "<Figure size 432x288 with 1 Axes>"
      ]
     },
     "metadata": {
      "needs_background": "light"
     },
     "output_type": "display_data"
    }
   ],
   "source": [
    "visualize(w, sum(dimsY), n, dims, coords_sol)"
   ]
  },
  {
   "cell_type": "code",
   "execution_count": 389,
   "id": "01870fc4",
   "metadata": {},
   "outputs": [
    {
     "data": {
      "text/plain": [
       "[(5, 0, 0), (5, 3, 1), (3, 8, 2), (3, 11, 3)]"
      ]
     },
     "execution_count": 389,
     "metadata": {},
     "output_type": "execute_result"
    }
   ],
   "source": [
    "coords_sol"
   ]
  },
  {
   "cell_type": "code",
   "execution_count": 379,
   "id": "a378a38a",
   "metadata": {},
   "outputs": [],
   "source": [
    "def compute_max_l(coords, dimsY, n):\n",
    "    return max([coords[i][1]+dimsY[i] for i in range(n)])"
   ]
  },
  {
   "cell_type": "code",
   "execution_count": 380,
   "id": "dd798767",
   "metadata": {},
   "outputs": [
    {
     "data": {
      "text/plain": [
       "11"
      ]
     },
     "execution_count": 380,
     "metadata": {},
     "output_type": "execute_result"
    }
   ],
   "source": [
    "compute_max_l(coords_sol, dimsY, n)"
   ]
  },
  {
   "cell_type": "code",
   "execution_count": 390,
   "id": "83d436cb",
   "metadata": {},
   "outputs": [],
   "source": [
    "def optimize(w, n, dimsX, dimsY):\n",
    "    formulas = []\n",
    "    \n",
    "    first = True\n",
    "    \n",
    "    #best_l = sum(dimsY)+1\n",
    "    \n",
    "    while True:\n",
    "        try:\n",
    "            coords_sol, formula = vlsi_sat(w, n, dimsX, dimsY, formulas=formulas)\n",
    "            formulas.append(Not(formula))\n",
    "            l = compute_max_l(coords_sol, dimsY, n)\n",
    "            print(l)\n",
    "            print(coords_sol)\n",
    "            if first or l < best_l:\n",
    "                first = False\n",
    "                best_coords_sol = coords_sol\n",
    "                best_l = l\n",
    "                print(f'best_l {best_l}')\n",
    "        except UnsatError:\n",
    "            break\n",
    "            \n",
    "    if first:\n",
    "        return 'Unsat'\n",
    "    \n",
    "    return best_coords_sol, best_l              "
   ]
  },
  {
   "cell_type": "code",
   "execution_count": 391,
   "id": "5d78fbee",
   "metadata": {},
   "outputs": [
    {
     "name": "stdout",
     "output_type": "stream",
     "text": [
      "16\n",
      "[(5, 0, 0), (5, 3, 1), (3, 8, 2), (3, 11, 3)]\n",
      "best_l 16\n",
      "16\n",
      "[(2, 0, 0), (5, 3, 1), (3, 8, 2), (3, 11, 3)]\n",
      "16\n",
      "[(1, 0, 0), (5, 3, 1), (3, 8, 2), (3, 11, 3)]\n",
      "16\n",
      "[(3, 0, 0), (5, 3, 1), (3, 8, 2), (3, 11, 3)]\n",
      "16\n",
      "[(1, 5, 0), (5, 3, 1), (3, 8, 2), (3, 11, 3)]\n"
     ]
    },
    {
     "ename": "KeyboardInterrupt",
     "evalue": "",
     "output_type": "error",
     "traceback": [
      "\u001b[1;31m---------------------------------------------------------------------------\u001b[0m",
      "\u001b[1;31mKeyboardInterrupt\u001b[0m                         Traceback (most recent call last)",
      "\u001b[1;32m<timed exec>\u001b[0m in \u001b[0;36m<module>\u001b[1;34m\u001b[0m\n",
      "\u001b[1;32m<ipython-input-390-d6c1b74e9f72>\u001b[0m in \u001b[0;36moptimize\u001b[1;34m(w, n, dimsX, dimsY)\u001b[0m\n\u001b[0;32m      8\u001b[0m     \u001b[1;32mwhile\u001b[0m \u001b[1;32mTrue\u001b[0m\u001b[1;33m:\u001b[0m\u001b[1;33m\u001b[0m\u001b[1;33m\u001b[0m\u001b[0m\n\u001b[0;32m      9\u001b[0m         \u001b[1;32mtry\u001b[0m\u001b[1;33m:\u001b[0m\u001b[1;33m\u001b[0m\u001b[1;33m\u001b[0m\u001b[0m\n\u001b[1;32m---> 10\u001b[1;33m             \u001b[0mcoords_sol\u001b[0m\u001b[1;33m,\u001b[0m \u001b[0mformula\u001b[0m \u001b[1;33m=\u001b[0m \u001b[0mvlsi_sat\u001b[0m\u001b[1;33m(\u001b[0m\u001b[0mw\u001b[0m\u001b[1;33m,\u001b[0m \u001b[0mn\u001b[0m\u001b[1;33m,\u001b[0m \u001b[0mdimsX\u001b[0m\u001b[1;33m,\u001b[0m \u001b[0mdimsY\u001b[0m\u001b[1;33m,\u001b[0m \u001b[0mformulas\u001b[0m\u001b[1;33m=\u001b[0m\u001b[0mformulas\u001b[0m\u001b[1;33m)\u001b[0m\u001b[1;33m\u001b[0m\u001b[1;33m\u001b[0m\u001b[0m\n\u001b[0m\u001b[0;32m     11\u001b[0m             \u001b[0mformulas\u001b[0m\u001b[1;33m.\u001b[0m\u001b[0mappend\u001b[0m\u001b[1;33m(\u001b[0m\u001b[0mNot\u001b[0m\u001b[1;33m(\u001b[0m\u001b[0mformula\u001b[0m\u001b[1;33m)\u001b[0m\u001b[1;33m)\u001b[0m\u001b[1;33m\u001b[0m\u001b[1;33m\u001b[0m\u001b[0m\n\u001b[0;32m     12\u001b[0m             \u001b[0ml\u001b[0m \u001b[1;33m=\u001b[0m \u001b[0mcompute_max_l\u001b[0m\u001b[1;33m(\u001b[0m\u001b[0mcoords_sol\u001b[0m\u001b[1;33m,\u001b[0m \u001b[0mdimsY\u001b[0m\u001b[1;33m,\u001b[0m \u001b[0mn\u001b[0m\u001b[1;33m)\u001b[0m\u001b[1;33m\u001b[0m\u001b[1;33m\u001b[0m\u001b[0m\n",
      "\u001b[1;32m<ipython-input-386-1fe2da70b3e2>\u001b[0m in \u001b[0;36mvlsi_sat\u001b[1;34m(w, n, dimsX, dimsY, formulas)\u001b[0m\n\u001b[0;32m     34\u001b[0m \u001b[1;33m\u001b[0m\u001b[0m\n\u001b[0;32m     35\u001b[0m                 \u001b[1;31m#s.add(Implies(coords[i][j][k], And(all_right_pos, no_wrong_pos)))\u001b[0m\u001b[1;33m\u001b[0m\u001b[1;33m\u001b[0m\u001b[1;33m\u001b[0m\u001b[0m\n\u001b[1;32m---> 36\u001b[1;33m                 \u001b[0mformula1\u001b[0m \u001b[1;33m=\u001b[0m \u001b[0mAnd\u001b[0m\u001b[1;33m(\u001b[0m\u001b[1;33m[\u001b[0m\u001b[0mNot\u001b[0m\u001b[1;33m(\u001b[0m\u001b[0mcircuits\u001b[0m\u001b[1;33m[\u001b[0m\u001b[0mii\u001b[0m\u001b[1;33m]\u001b[0m\u001b[1;33m[\u001b[0m\u001b[0mjj\u001b[0m\u001b[1;33m]\u001b[0m\u001b[1;33m[\u001b[0m\u001b[0mkk\u001b[0m\u001b[1;33m]\u001b[0m\u001b[1;33m)\u001b[0m \u001b[1;32mfor\u001b[0m \u001b[1;33m(\u001b[0m\u001b[0mii\u001b[0m\u001b[1;33m,\u001b[0m\u001b[0mjj\u001b[0m\u001b[1;33m)\u001b[0m \u001b[1;32min\u001b[0m \u001b[0mright_positions\u001b[0m \u001b[1;32mfor\u001b[0m \u001b[0mkk\u001b[0m \u001b[1;32min\u001b[0m \u001b[0mrange\u001b[0m\u001b[1;33m(\u001b[0m\u001b[0mn\u001b[0m\u001b[1;33m)\u001b[0m \u001b[1;32mif\u001b[0m \u001b[0mkk\u001b[0m\u001b[1;33m!=\u001b[0m\u001b[0mk\u001b[0m\u001b[1;33m]\u001b[0m\u001b[1;33m)\u001b[0m\u001b[1;33m\u001b[0m\u001b[1;33m\u001b[0m\u001b[0m\n\u001b[0m\u001b[0;32m     37\u001b[0m                 \u001b[0mformula2\u001b[0m \u001b[1;33m=\u001b[0m \u001b[0mAnd\u001b[0m\u001b[1;33m(\u001b[0m\u001b[1;33m[\u001b[0m\u001b[0mcircuits\u001b[0m\u001b[1;33m[\u001b[0m\u001b[0mii\u001b[0m\u001b[1;33m]\u001b[0m\u001b[1;33m[\u001b[0m\u001b[0mjj\u001b[0m\u001b[1;33m]\u001b[0m\u001b[1;33m[\u001b[0m\u001b[0mk\u001b[0m\u001b[1;33m]\u001b[0m \u001b[1;32mfor\u001b[0m \u001b[1;33m(\u001b[0m\u001b[0mii\u001b[0m\u001b[1;33m,\u001b[0m\u001b[0mjj\u001b[0m\u001b[1;33m)\u001b[0m \u001b[1;32min\u001b[0m \u001b[0mright_positions\u001b[0m \u001b[1;33m]\u001b[0m\u001b[1;33m)\u001b[0m\u001b[1;33m\u001b[0m\u001b[1;33m\u001b[0m\u001b[0m\n\u001b[0;32m     38\u001b[0m                 \u001b[1;31m#s.add(Implies(coords[i][j][k], formula))\u001b[0m\u001b[1;33m\u001b[0m\u001b[1;33m\u001b[0m\u001b[1;33m\u001b[0m\u001b[0m\n",
      "\u001b[1;32m~\\anaconda3\\lib\\site-packages\\z3\\z3.py\u001b[0m in \u001b[0;36mAnd\u001b[1;34m(*args)\u001b[0m\n\u001b[0;32m   1838\u001b[0m         \u001b[1;32mreturn\u001b[0m \u001b[0m_probe_and\u001b[0m\u001b[1;33m(\u001b[0m\u001b[0margs\u001b[0m\u001b[1;33m,\u001b[0m \u001b[0mctx\u001b[0m\u001b[1;33m)\u001b[0m\u001b[1;33m\u001b[0m\u001b[1;33m\u001b[0m\u001b[0m\n\u001b[0;32m   1839\u001b[0m     \u001b[1;32melse\u001b[0m\u001b[1;33m:\u001b[0m\u001b[1;33m\u001b[0m\u001b[1;33m\u001b[0m\u001b[0m\n\u001b[1;32m-> 1840\u001b[1;33m         \u001b[0margs\u001b[0m \u001b[1;33m=\u001b[0m \u001b[0m_coerce_expr_list\u001b[0m\u001b[1;33m(\u001b[0m\u001b[0margs\u001b[0m\u001b[1;33m,\u001b[0m \u001b[0mctx\u001b[0m\u001b[1;33m)\u001b[0m\u001b[1;33m\u001b[0m\u001b[1;33m\u001b[0m\u001b[0m\n\u001b[0m\u001b[0;32m   1841\u001b[0m         \u001b[0m_args\u001b[0m\u001b[1;33m,\u001b[0m \u001b[0msz\u001b[0m \u001b[1;33m=\u001b[0m \u001b[0m_to_ast_array\u001b[0m\u001b[1;33m(\u001b[0m\u001b[0margs\u001b[0m\u001b[1;33m)\u001b[0m\u001b[1;33m\u001b[0m\u001b[1;33m\u001b[0m\u001b[0m\n\u001b[0;32m   1842\u001b[0m         \u001b[1;32mreturn\u001b[0m \u001b[0mBoolRef\u001b[0m\u001b[1;33m(\u001b[0m\u001b[0mZ3_mk_and\u001b[0m\u001b[1;33m(\u001b[0m\u001b[0mctx\u001b[0m\u001b[1;33m.\u001b[0m\u001b[0mref\u001b[0m\u001b[1;33m(\u001b[0m\u001b[1;33m)\u001b[0m\u001b[1;33m,\u001b[0m \u001b[0msz\u001b[0m\u001b[1;33m,\u001b[0m \u001b[0m_args\u001b[0m\u001b[1;33m)\u001b[0m\u001b[1;33m,\u001b[0m \u001b[0mctx\u001b[0m\u001b[1;33m)\u001b[0m\u001b[1;33m\u001b[0m\u001b[1;33m\u001b[0m\u001b[0m\n",
      "\u001b[1;32m~\\anaconda3\\lib\\site-packages\\z3\\z3.py\u001b[0m in \u001b[0;36m_coerce_expr_list\u001b[1;34m(alist, ctx)\u001b[0m\n\u001b[0;32m   1203\u001b[0m     \u001b[1;32mif\u001b[0m \u001b[1;32mnot\u001b[0m \u001b[0mhas_expr\u001b[0m\u001b[1;33m:\u001b[0m\u001b[1;33m\u001b[0m\u001b[1;33m\u001b[0m\u001b[0m\n\u001b[0;32m   1204\u001b[0m         \u001b[0malist\u001b[0m \u001b[1;33m=\u001b[0m \u001b[1;33m[\u001b[0m\u001b[0m_py2expr\u001b[0m\u001b[1;33m(\u001b[0m\u001b[0ma\u001b[0m\u001b[1;33m,\u001b[0m \u001b[0mctx\u001b[0m\u001b[1;33m)\u001b[0m \u001b[1;32mfor\u001b[0m \u001b[0ma\u001b[0m \u001b[1;32min\u001b[0m \u001b[0malist\u001b[0m\u001b[1;33m]\u001b[0m\u001b[1;33m\u001b[0m\u001b[1;33m\u001b[0m\u001b[0m\n\u001b[1;32m-> 1205\u001b[1;33m     \u001b[0ms\u001b[0m \u001b[1;33m=\u001b[0m \u001b[0m_reduce\u001b[0m\u001b[1;33m(\u001b[0m\u001b[0m_coerce_expr_merge\u001b[0m\u001b[1;33m,\u001b[0m \u001b[0malist\u001b[0m\u001b[1;33m,\u001b[0m \u001b[1;32mNone\u001b[0m\u001b[1;33m)\u001b[0m\u001b[1;33m\u001b[0m\u001b[1;33m\u001b[0m\u001b[0m\n\u001b[0m\u001b[0;32m   1206\u001b[0m     \u001b[1;32mreturn\u001b[0m \u001b[1;33m[\u001b[0m\u001b[0ms\u001b[0m\u001b[1;33m.\u001b[0m\u001b[0mcast\u001b[0m\u001b[1;33m(\u001b[0m\u001b[0ma\u001b[0m\u001b[1;33m)\u001b[0m \u001b[1;32mfor\u001b[0m \u001b[0ma\u001b[0m \u001b[1;32min\u001b[0m \u001b[0malist\u001b[0m\u001b[1;33m]\u001b[0m\u001b[1;33m\u001b[0m\u001b[1;33m\u001b[0m\u001b[0m\n\u001b[0;32m   1207\u001b[0m \u001b[1;33m\u001b[0m\u001b[0m\n",
      "\u001b[1;32m~\\anaconda3\\lib\\site-packages\\z3\\z3.py\u001b[0m in \u001b[0;36m_reduce\u001b[1;34m(func, sequence, initial)\u001b[0m\n\u001b[0;32m   1191\u001b[0m     \u001b[0mresult\u001b[0m \u001b[1;33m=\u001b[0m \u001b[0minitial\u001b[0m\u001b[1;33m\u001b[0m\u001b[1;33m\u001b[0m\u001b[0m\n\u001b[0;32m   1192\u001b[0m     \u001b[1;32mfor\u001b[0m \u001b[0melement\u001b[0m \u001b[1;32min\u001b[0m \u001b[0msequence\u001b[0m\u001b[1;33m:\u001b[0m\u001b[1;33m\u001b[0m\u001b[1;33m\u001b[0m\u001b[0m\n\u001b[1;32m-> 1193\u001b[1;33m         \u001b[0mresult\u001b[0m \u001b[1;33m=\u001b[0m \u001b[0mfunc\u001b[0m\u001b[1;33m(\u001b[0m\u001b[0mresult\u001b[0m\u001b[1;33m,\u001b[0m \u001b[0melement\u001b[0m\u001b[1;33m)\u001b[0m\u001b[1;33m\u001b[0m\u001b[1;33m\u001b[0m\u001b[0m\n\u001b[0m\u001b[0;32m   1194\u001b[0m     \u001b[1;32mreturn\u001b[0m \u001b[0mresult\u001b[0m\u001b[1;33m\u001b[0m\u001b[1;33m\u001b[0m\u001b[0m\n\u001b[0;32m   1195\u001b[0m \u001b[1;33m\u001b[0m\u001b[0m\n",
      "\u001b[1;32m~\\anaconda3\\lib\\site-packages\\z3\\z3.py\u001b[0m in \u001b[0;36m_coerce_expr_merge\u001b[1;34m(s, a)\u001b[0m\n\u001b[0;32m   1155\u001b[0m \u001b[1;32mdef\u001b[0m \u001b[0m_coerce_expr_merge\u001b[0m\u001b[1;33m(\u001b[0m\u001b[0ms\u001b[0m\u001b[1;33m,\u001b[0m \u001b[0ma\u001b[0m\u001b[1;33m)\u001b[0m\u001b[1;33m:\u001b[0m\u001b[1;33m\u001b[0m\u001b[1;33m\u001b[0m\u001b[0m\n\u001b[0;32m   1156\u001b[0m     \u001b[1;32mif\u001b[0m \u001b[0mis_expr\u001b[0m\u001b[1;33m(\u001b[0m\u001b[0ma\u001b[0m\u001b[1;33m)\u001b[0m\u001b[1;33m:\u001b[0m\u001b[1;33m\u001b[0m\u001b[1;33m\u001b[0m\u001b[0m\n\u001b[1;32m-> 1157\u001b[1;33m         \u001b[0ms1\u001b[0m \u001b[1;33m=\u001b[0m \u001b[0ma\u001b[0m\u001b[1;33m.\u001b[0m\u001b[0msort\u001b[0m\u001b[1;33m(\u001b[0m\u001b[1;33m)\u001b[0m\u001b[1;33m\u001b[0m\u001b[1;33m\u001b[0m\u001b[0m\n\u001b[0m\u001b[0;32m   1158\u001b[0m         \u001b[1;32mif\u001b[0m \u001b[0ms\u001b[0m \u001b[1;32mis\u001b[0m \u001b[1;32mNone\u001b[0m\u001b[1;33m:\u001b[0m\u001b[1;33m\u001b[0m\u001b[1;33m\u001b[0m\u001b[0m\n\u001b[0;32m   1159\u001b[0m             \u001b[1;32mreturn\u001b[0m \u001b[0ms1\u001b[0m\u001b[1;33m\u001b[0m\u001b[1;33m\u001b[0m\u001b[0m\n",
      "\u001b[1;32m~\\anaconda3\\lib\\site-packages\\z3\\z3.py\u001b[0m in \u001b[0;36msort\u001b[1;34m(self)\u001b[0m\n\u001b[0;32m   1517\u001b[0m \u001b[1;33m\u001b[0m\u001b[0m\n\u001b[0;32m   1518\u001b[0m     \u001b[1;32mdef\u001b[0m \u001b[0msort\u001b[0m\u001b[1;33m(\u001b[0m\u001b[0mself\u001b[0m\u001b[1;33m)\u001b[0m\u001b[1;33m:\u001b[0m\u001b[1;33m\u001b[0m\u001b[1;33m\u001b[0m\u001b[0m\n\u001b[1;32m-> 1519\u001b[1;33m         \u001b[1;32mreturn\u001b[0m \u001b[0mBoolSortRef\u001b[0m\u001b[1;33m(\u001b[0m\u001b[0mZ3_get_sort\u001b[0m\u001b[1;33m(\u001b[0m\u001b[0mself\u001b[0m\u001b[1;33m.\u001b[0m\u001b[0mctx_ref\u001b[0m\u001b[1;33m(\u001b[0m\u001b[1;33m)\u001b[0m\u001b[1;33m,\u001b[0m \u001b[0mself\u001b[0m\u001b[1;33m.\u001b[0m\u001b[0mas_ast\u001b[0m\u001b[1;33m(\u001b[0m\u001b[1;33m)\u001b[0m\u001b[1;33m)\u001b[0m\u001b[1;33m,\u001b[0m \u001b[0mself\u001b[0m\u001b[1;33m.\u001b[0m\u001b[0mctx\u001b[0m\u001b[1;33m)\u001b[0m\u001b[1;33m\u001b[0m\u001b[1;33m\u001b[0m\u001b[0m\n\u001b[0m\u001b[0;32m   1520\u001b[0m \u001b[1;33m\u001b[0m\u001b[0m\n\u001b[0;32m   1521\u001b[0m     \u001b[1;32mdef\u001b[0m \u001b[0m__rmul__\u001b[0m\u001b[1;33m(\u001b[0m\u001b[0mself\u001b[0m\u001b[1;33m,\u001b[0m \u001b[0mother\u001b[0m\u001b[1;33m)\u001b[0m\u001b[1;33m:\u001b[0m\u001b[1;33m\u001b[0m\u001b[1;33m\u001b[0m\u001b[0m\n",
      "\u001b[1;32m~\\anaconda3\\lib\\site-packages\\z3\\z3.py\u001b[0m in \u001b[0;36m__init__\u001b[1;34m(self, ast, ctx)\u001b[0m\n\u001b[0;32m    340\u001b[0m         \u001b[0mself\u001b[0m\u001b[1;33m.\u001b[0m\u001b[0mast\u001b[0m \u001b[1;33m=\u001b[0m \u001b[0mast\u001b[0m\u001b[1;33m\u001b[0m\u001b[1;33m\u001b[0m\u001b[0m\n\u001b[0;32m    341\u001b[0m         \u001b[0mself\u001b[0m\u001b[1;33m.\u001b[0m\u001b[0mctx\u001b[0m \u001b[1;33m=\u001b[0m \u001b[0m_get_ctx\u001b[0m\u001b[1;33m(\u001b[0m\u001b[0mctx\u001b[0m\u001b[1;33m)\u001b[0m\u001b[1;33m\u001b[0m\u001b[1;33m\u001b[0m\u001b[0m\n\u001b[1;32m--> 342\u001b[1;33m         \u001b[0mZ3_inc_ref\u001b[0m\u001b[1;33m(\u001b[0m\u001b[0mself\u001b[0m\u001b[1;33m.\u001b[0m\u001b[0mctx\u001b[0m\u001b[1;33m.\u001b[0m\u001b[0mref\u001b[0m\u001b[1;33m(\u001b[0m\u001b[1;33m)\u001b[0m\u001b[1;33m,\u001b[0m \u001b[0mself\u001b[0m\u001b[1;33m.\u001b[0m\u001b[0mas_ast\u001b[0m\u001b[1;33m(\u001b[0m\u001b[1;33m)\u001b[0m\u001b[1;33m)\u001b[0m\u001b[1;33m\u001b[0m\u001b[1;33m\u001b[0m\u001b[0m\n\u001b[0m\u001b[0;32m    343\u001b[0m \u001b[1;33m\u001b[0m\u001b[0m\n\u001b[0;32m    344\u001b[0m     \u001b[1;32mdef\u001b[0m \u001b[0m__del__\u001b[0m\u001b[1;33m(\u001b[0m\u001b[0mself\u001b[0m\u001b[1;33m)\u001b[0m\u001b[1;33m:\u001b[0m\u001b[1;33m\u001b[0m\u001b[1;33m\u001b[0m\u001b[0m\n",
      "\u001b[1;32m~\\anaconda3\\lib\\site-packages\\z3\\z3.py\u001b[0m in \u001b[0;36mas_ast\u001b[1;34m(self)\u001b[0m\n\u001b[0;32m    555\u001b[0m \u001b[1;33m\u001b[0m\u001b[0m\n\u001b[0;32m    556\u001b[0m     \u001b[1;32mdef\u001b[0m \u001b[0mas_ast\u001b[0m\u001b[1;33m(\u001b[0m\u001b[0mself\u001b[0m\u001b[1;33m)\u001b[0m\u001b[1;33m:\u001b[0m\u001b[1;33m\u001b[0m\u001b[1;33m\u001b[0m\u001b[0m\n\u001b[1;32m--> 557\u001b[1;33m         \u001b[1;32mreturn\u001b[0m \u001b[0mZ3_sort_to_ast\u001b[0m\u001b[1;33m(\u001b[0m\u001b[0mself\u001b[0m\u001b[1;33m.\u001b[0m\u001b[0mctx_ref\u001b[0m\u001b[1;33m(\u001b[0m\u001b[1;33m)\u001b[0m\u001b[1;33m,\u001b[0m \u001b[0mself\u001b[0m\u001b[1;33m.\u001b[0m\u001b[0mast\u001b[0m\u001b[1;33m)\u001b[0m\u001b[1;33m\u001b[0m\u001b[1;33m\u001b[0m\u001b[0m\n\u001b[0m\u001b[0;32m    558\u001b[0m \u001b[1;33m\u001b[0m\u001b[0m\n\u001b[0;32m    559\u001b[0m     \u001b[1;32mdef\u001b[0m \u001b[0mget_id\u001b[0m\u001b[1;33m(\u001b[0m\u001b[0mself\u001b[0m\u001b[1;33m)\u001b[0m\u001b[1;33m:\u001b[0m\u001b[1;33m\u001b[0m\u001b[1;33m\u001b[0m\u001b[0m\n",
      "\u001b[1;32m~\\anaconda3\\lib\\site-packages\\z3\\z3core.py\u001b[0m in \u001b[0;36mZ3_sort_to_ast\u001b[1;34m(a0, a1, _elems)\u001b[0m\n\u001b[0;32m   2689\u001b[0m \u001b[1;32mdef\u001b[0m \u001b[0mZ3_sort_to_ast\u001b[0m\u001b[1;33m(\u001b[0m\u001b[0ma0\u001b[0m\u001b[1;33m,\u001b[0m \u001b[0ma1\u001b[0m\u001b[1;33m,\u001b[0m \u001b[0m_elems\u001b[0m\u001b[1;33m=\u001b[0m\u001b[0mElementaries\u001b[0m\u001b[1;33m(\u001b[0m\u001b[0m_lib\u001b[0m\u001b[1;33m.\u001b[0m\u001b[0mZ3_sort_to_ast\u001b[0m\u001b[1;33m)\u001b[0m\u001b[1;33m)\u001b[0m\u001b[1;33m:\u001b[0m\u001b[1;33m\u001b[0m\u001b[1;33m\u001b[0m\u001b[0m\n\u001b[0;32m   2690\u001b[0m   \u001b[0mr\u001b[0m \u001b[1;33m=\u001b[0m \u001b[0m_elems\u001b[0m\u001b[1;33m.\u001b[0m\u001b[0mf\u001b[0m\u001b[1;33m(\u001b[0m\u001b[0ma0\u001b[0m\u001b[1;33m,\u001b[0m \u001b[0ma1\u001b[0m\u001b[1;33m)\u001b[0m\u001b[1;33m\u001b[0m\u001b[1;33m\u001b[0m\u001b[0m\n\u001b[1;32m-> 2691\u001b[1;33m   \u001b[0m_elems\u001b[0m\u001b[1;33m.\u001b[0m\u001b[0mCheck\u001b[0m\u001b[1;33m(\u001b[0m\u001b[0ma0\u001b[0m\u001b[1;33m)\u001b[0m\u001b[1;33m\u001b[0m\u001b[1;33m\u001b[0m\u001b[0m\n\u001b[0m\u001b[0;32m   2692\u001b[0m   \u001b[1;32mreturn\u001b[0m \u001b[0mr\u001b[0m\u001b[1;33m\u001b[0m\u001b[1;33m\u001b[0m\u001b[0m\n\u001b[0;32m   2693\u001b[0m \u001b[1;33m\u001b[0m\u001b[0m\n",
      "\u001b[1;32m~\\anaconda3\\lib\\site-packages\\z3\\z3core.py\u001b[0m in \u001b[0;36mCheck\u001b[1;34m(self, ctx)\u001b[0m\n\u001b[0;32m   1451\u001b[0m \u001b[1;33m\u001b[0m\u001b[0m\n\u001b[0;32m   1452\u001b[0m   \u001b[1;32mdef\u001b[0m \u001b[0mCheck\u001b[0m\u001b[1;33m(\u001b[0m\u001b[0mself\u001b[0m\u001b[1;33m,\u001b[0m \u001b[0mctx\u001b[0m\u001b[1;33m)\u001b[0m\u001b[1;33m:\u001b[0m\u001b[1;33m\u001b[0m\u001b[1;33m\u001b[0m\u001b[0m\n\u001b[1;32m-> 1453\u001b[1;33m     \u001b[0merr\u001b[0m \u001b[1;33m=\u001b[0m \u001b[0mself\u001b[0m\u001b[1;33m.\u001b[0m\u001b[0mget_error_code\u001b[0m\u001b[1;33m(\u001b[0m\u001b[0mctx\u001b[0m\u001b[1;33m)\u001b[0m\u001b[1;33m\u001b[0m\u001b[1;33m\u001b[0m\u001b[0m\n\u001b[0m\u001b[0;32m   1454\u001b[0m     \u001b[1;32mif\u001b[0m \u001b[0merr\u001b[0m \u001b[1;33m!=\u001b[0m \u001b[0mself\u001b[0m\u001b[1;33m.\u001b[0m\u001b[0mOK\u001b[0m\u001b[1;33m:\u001b[0m\u001b[1;33m\u001b[0m\u001b[1;33m\u001b[0m\u001b[0m\n\u001b[0;32m   1455\u001b[0m         \u001b[1;32mraise\u001b[0m \u001b[0mself\u001b[0m\u001b[1;33m.\u001b[0m\u001b[0mException\u001b[0m\u001b[1;33m(\u001b[0m\u001b[0mself\u001b[0m\u001b[1;33m.\u001b[0m\u001b[0mget_error_message\u001b[0m\u001b[1;33m(\u001b[0m\u001b[0mctx\u001b[0m\u001b[1;33m,\u001b[0m \u001b[0merr\u001b[0m\u001b[1;33m)\u001b[0m\u001b[1;33m)\u001b[0m\u001b[1;33m\u001b[0m\u001b[1;33m\u001b[0m\u001b[0m\n",
      "\u001b[1;31mKeyboardInterrupt\u001b[0m: "
     ]
    }
   ],
   "source": [
    "%%time\n",
    "best_coords_sol, best_l = optimize(w, n, dimsX, dimsY)"
   ]
  },
  {
   "cell_type": "code",
   "execution_count": 179,
   "id": "078b6a8b",
   "metadata": {},
   "outputs": [
    {
     "data": {
      "text/plain": [
       "[(0, 0), (1, 0)]"
      ]
     },
     "execution_count": 179,
     "metadata": {},
     "output_type": "execute_result"
    }
   ],
   "source": [
    "best_coords_sol"
   ]
  },
  {
   "cell_type": "code",
   "execution_count": 180,
   "id": "63b8b22f",
   "metadata": {},
   "outputs": [
    {
     "data": {
      "text/plain": [
       "2"
      ]
     },
     "execution_count": 180,
     "metadata": {},
     "output_type": "execute_result"
    }
   ],
   "source": [
    "best_l"
   ]
  },
  {
   "cell_type": "code",
   "execution_count": null,
   "id": "8a499b1f",
   "metadata": {},
   "outputs": [],
   "source": []
  },
  {
   "cell_type": "code",
   "execution_count": null,
   "id": "b906472b",
   "metadata": {},
   "outputs": [],
   "source": []
  },
  {
   "cell_type": "code",
   "execution_count": 408,
   "id": "fbd0e724",
   "metadata": {},
   "outputs": [],
   "source": [
    "def vlsi_sat(w, n, dimsX, dimsY, formulas=[], l_max=None):\n",
    "    s = Solver()\n",
    "    s.add(And(formulas))\n",
    "    \n",
    "    if not l_max:\n",
    "        l_max = sum(dimsY)\n",
    "    #print(f'l_max {l_max}')\n",
    "    #print()\n",
    "    \n",
    "    circuits = [[[Bool(f'circuit_{i}_{j}_{k}') for k in range(n)] for j in range(l_max)] for i in range(w)]\n",
    "    coords = [[[Bool(f'coord_{i}_{j}_{k}') for k in range(n)] for j in range(l_max)] for i in range(w)]\n",
    "    #coordsY = [[[Bool('coordY_{i}_{j}_{k}') for k in range(n)] for j in range(l_max)] for i in range(w)]\n",
    "    \n",
    "    lengths = [[Bool(f'length_{k}_{l}') for l in range(l_max)] for k in range(n)]\n",
    "    \n",
    "    for i in range(w):\n",
    "        for j in range(l_max):\n",
    "            s.add(at_most_one(circuits[i][j], name=f'at_most_one_circuit_{i}_{j}'))\n",
    "            s.add(at_most_one(coords[i][j], name=f'at_most_one_coord_{i}_{j}'))\n",
    "            \n",
    "    for k in range(n):\n",
    "        s.add(exactly_one([coords[i][j][k] for i in range(w) for j in range(l_max)], name=f'exactly_one_{k}'))\n",
    "            \n",
    "    for k in range(n):\n",
    "        for i in range(w):\n",
    "            for j in range(l_max):\n",
    "                #print(f'k {k} i {i} j {j}')\n",
    "                if i+dimsX[k]-1>=w or j+dimsY[k]-1>=l_max:\n",
    "                    s.add(Not(coords[i][j][k]))\n",
    "                    continue\n",
    "                right_positions = [(i+ii,j+jj) for ii in range(dimsX[k]) for jj in range(dimsY[k])]\n",
    "                #print(right_positions)\n",
    "                #wrong_positions = sorted(list(set([(i,j) for i in range(w) for j in range(l_max)]) - set(right_positions)))\n",
    "                #print(wrong_positions)\n",
    "                ##all_right_pos = And([circuits[ii][jj][k] for (ii,jj) in right_positions])\n",
    "                #no_wrong_pos = And([Not(circuits[ii][jj][k]) for (ii,jj) in wrong_positions])\n",
    "                \n",
    "                #s.add(Implies(coords[i][j][k], And(all_right_pos, no_wrong_pos)))\n",
    "                formula1 = And([Not(circuits[ii][jj][kk]) for (ii,jj) in right_positions for kk in range(n) if kk!=k])\n",
    "                formula2 = And([circuits[ii][jj][k] for (ii,jj) in right_positions ])\n",
    "                #s.add(Implies(coords[i][j][k], formula))\n",
    "                \n",
    "                formula3 = And([Not(lengths[k][l]) for l in range(j+dimsY[k], l_max)])\n",
    "                formula4 = And([lengths[k][l] for l in range(j+dimsY[k])])\n",
    "                \n",
    "                s.add(coords[i][j][k] == And(formula1, formula2))\n",
    "                s.add(Implies(coords[i][j][k], And(formula3, formula4)))\n",
    "                \n",
    "                #print()\n",
    "                \n",
    "    #s.add(at_least_one(lengths))\n",
    "                \n",
    "    if s.check() != sat:\n",
    "        raise UnsatError()\n",
    "    \n",
    "    # return s\n",
    "    #if s.check() == sat:\n",
    "    m = s.model()\n",
    "    #print(m[coords[1][1][1]])\n",
    "    #return m\n",
    "\n",
    "    coords_sol = [(i, j, k) for k in range(n) for j in range(l_max) for i in range(w) if m.evaluate(coords[i][j][k])]\n",
    "    formula = And([ (coords[i][j][k] if m.evaluate(coords[i][j][k]) else Not(coords[i][j][k])) for i in range(w) for j in range(l_max) for k in range(n)])\n",
    "    l = max([l for k in range(n) for l in range(l_max) if m.evaluate(lengths[k][l])])+1\n",
    "    return coords_sol, l, formula\n",
    "    #else:\n",
    "    #    return \"Unsat\" "
   ]
  },
  {
   "cell_type": "code",
   "execution_count": 424,
   "id": "c946a6a6",
   "metadata": {},
   "outputs": [],
   "source": [
    "def vlsi_sat1(w, n, dimsX, dimsY, formulas=[], l_max=None):\n",
    "    s = Solver()\n",
    "    s.add(And(formulas))\n",
    "    \n",
    "    if not l_max:\n",
    "        l_max = sum(dimsY)\n",
    "    #print(f'l_max {l_max}')\n",
    "    #print()\n",
    "    \n",
    "    circuits = [[[Bool(f'circuit_{i}_{j}_{k}') for k in range(n)] for j in range(l_max)] for i in range(w)]\n",
    "    coords = [[[Bool(f'coord_{i}_{j}_{k}') for k in range(n)] for j in range(l_max)] for i in range(w)]\n",
    "    #coordsY = [[[Bool('coordY_{i}_{j}_{k}') for k in range(n)] for j in range(l_max)] for i in range(w)]\n",
    "    \n",
    "    for i in range(w):\n",
    "        for j in range(l_max):\n",
    "            s.add(at_most_one(circuits[i][j], name=f'at_most_one_circuit_{i}_{j}'))\n",
    "            s.add(at_most_one(coords[i][j], name=f'at_most_one_coord_{i}_{j}'))\n",
    "            \n",
    "    for k in range(n):\n",
    "        s.add(exactly_one([coords[i][j][k] for i in range(w) for j in range(l_max)], name=f'exactly_one_{k}'))\n",
    "            \n",
    "    for k in range(n):\n",
    "        for i in range(w):\n",
    "            for j in range(l_max):\n",
    "                #print(f'k {k} i {i} j {j}')\n",
    "                if i+dimsX[k]-1>=w or j+dimsY[k]-1>=l_max:\n",
    "                    s.add(Not(coords[i][j][k]))\n",
    "                    continue\n",
    "                right_positions = [(i+ii,j+jj) for ii in range(dimsX[k]) for jj in range(dimsY[k])]\n",
    "                #print(right_positions)\n",
    "                #wrong_positions = sorted(list(set([(i,j) for i in range(w) for j in range(l_max)]) - set(right_positions)))\n",
    "                #print(wrong_positions)\n",
    "                ##all_right_pos = And([circuits[ii][jj][k] for (ii,jj) in right_positions])\n",
    "                #no_wrong_pos = And([Not(circuits[ii][jj][k]) for (ii,jj) in wrong_positions])\n",
    "                \n",
    "                #s.add(Implies(coords[i][j][k], And(all_right_pos, no_wrong_pos)))\n",
    "                formula1 = And([Not(circuits[ii][jj][kk]) for (ii,jj) in right_positions for kk in range(n) if kk!=k])\n",
    "                formula2 = And([circuits[ii][jj][k] for (ii,jj) in right_positions ])\n",
    "                #s.add(Implies(coords[i][j][k], formula))\n",
    "                \n",
    "                s.add(coords[i][j][k] == And(formula1, formula2))                \n",
    "                #print()\n",
    "                \n",
    "    #s.add(at_least_one(lengths))\n",
    "                \n",
    "    if s.check() != sat:\n",
    "        raise UnsatError()\n",
    "    \n",
    "    # return s\n",
    "    #if s.check() == sat:\n",
    "    m = s.model()\n",
    "    #print(m[coords[1][1][1]])\n",
    "    #return m\n",
    "\n",
    "    coords_sol = [(i, j, k) for k in range(n) for j in range(l_max) for i in range(w) if m.evaluate(coords[i][j][k])]\n",
    "    formula = And([ (coords[i][j][k] if m.evaluate(coords[i][j][k]) else Not(coords[i][j][k])) for i in range(w) for j in range(l_max) for k in range(n)])\n",
    "\n",
    "    return coords_sol, formula\n",
    "    #else:\n",
    "    #    return \"Unsat\" "
   ]
  },
  {
   "cell_type": "code",
   "execution_count": 426,
   "id": "f5f947a1",
   "metadata": {},
   "outputs": [
    {
     "name": "stdout",
     "output_type": "stream",
     "text": [
      "Wall time: 1.03 s\n"
     ]
    }
   ],
   "source": [
    "%%time\n",
    "coords_sol, formula = vlsi_sat1(w, n, dimsX, dimsY, l_max=8)"
   ]
  },
  {
   "cell_type": "code",
   "execution_count": 427,
   "id": "035ffd81",
   "metadata": {},
   "outputs": [
    {
     "data": {
      "image/png": "[encoded data removed]",
      "text/plain": [
       "<Figure size 432x288 with 1 Axes>"
      ]
     },
     "metadata": {
      "needs_background": "light"
     },
     "output_type": "display_data"
    }
   ],
   "source": [
    "visualize(w, sum(dimsY), n, dims, coords_sol)"
   ]
  },
  {
   "cell_type": "code",
   "execution_count": 411,
   "id": "76e6f724",
   "metadata": {},
   "outputs": [
    {
     "data": {
      "text/plain": [
       "8"
      ]
     },
     "execution_count": 411,
     "metadata": {},
     "output_type": "execute_result"
    }
   ],
   "source": [
    "l"
   ]
  },
  {
   "cell_type": "code",
   "execution_count": 412,
   "id": "0b516ba5",
   "metadata": {},
   "outputs": [
    {
     "data": {
      "text/plain": [
       "[(5, 0, 0), (5, 3, 1), (0, 5, 2), (0, 0, 3)]"
      ]
     },
     "execution_count": 412,
     "metadata": {},
     "output_type": "execute_result"
    }
   ],
   "source": [
    "coords_sol"
   ]
  },
  {
   "cell_type": "code",
   "execution_count": 400,
   "id": "6cd3226d",
   "metadata": {},
   "outputs": [],
   "source": [
    "def compute_max_l(coords, dimsY, n):\n",
    "    return max([coords[i][1]+dimsY[i] for i in range(n)])"
   ]
  },
  {
   "cell_type": "code",
   "execution_count": 401,
   "id": "b323aab5",
   "metadata": {},
   "outputs": [
    {
     "data": {
      "text/plain": [
       "16"
      ]
     },
     "execution_count": 401,
     "metadata": {},
     "output_type": "execute_result"
    }
   ],
   "source": [
    "compute_max_l(coords_sol, dimsY, n)"
   ]
  },
  {
   "cell_type": "code",
   "execution_count": 430,
   "id": "8d57930c",
   "metadata": {},
   "outputs": [],
   "source": [
    "def optimize(w, n, dimsX, dimsY):\n",
    "    formulas = []\n",
    "    \n",
    "    first = True\n",
    "    \n",
    "    l=None\n",
    "    \n",
    "    #best_l = sum(dimsY)+1\n",
    "    \n",
    "    while True:\n",
    "        try:\n",
    "            coords_sol, formula = vlsi_sat1(w, n, dimsX, dimsY, formulas=formulas, l_max=l)\n",
    "            formulas.append(Not(formula))\n",
    "            l = compute_max_l(coords_sol, dimsY, n)\n",
    "            print(l)\n",
    "            print(coords_sol)\n",
    "            if first or l < best_l:\n",
    "                first = False\n",
    "                best_coords_sol = coords_sol\n",
    "                best_l = l\n",
    "                print(f'best_l {best_l}')\n",
    "            l=l-1\n",
    "        except UnsatError:\n",
    "            break\n",
    "            \n",
    "    if first:\n",
    "        return 'Unsat'\n",
    "    \n",
    "    return best_coords_sol, best_l              "
   ]
  },
  {
   "cell_type": "code",
   "execution_count": 419,
   "id": "a8ad64e9",
   "metadata": {},
   "outputs": [
    {
     "name": "stdout",
     "output_type": "stream",
     "text": [
      "16\n",
      "[(5, 0, 0), (5, 3, 1), (3, 8, 2), (3, 11, 3)]\n",
      "best_l 16\n",
      "15\n",
      "[(5, 7, 0), (0, 10, 1), (3, 10, 2), (1, 2, 3)]\n",
      "best_l 15\n",
      "14\n",
      "[(2, 3, 0), (5, 1, 1), (3, 6, 2), (3, 9, 3)]\n",
      "best_l 14\n",
      "13\n",
      "[(2, 2, 0), (5, 0, 1), (3, 5, 2), (3, 8, 3)]\n",
      "best_l 13\n",
      "12\n",
      "[(5, 1, 0), (0, 7, 1), (3, 4, 2), (3, 7, 3)]\n",
      "best_l 12\n",
      "11\n",
      "[(5, 0, 0), (0, 6, 1), (3, 3, 2), (3, 6, 3)]\n",
      "best_l 11\n",
      "10\n",
      "[(0, 7, 0), (5, 0, 1), (3, 6, 2), (0, 1, 3)]\n",
      "best_l 10\n",
      "9\n",
      "[(0, 0, 0), (0, 4, 1), (3, 1, 2), (3, 4, 3)]\n",
      "best_l 9\n",
      "8\n",
      "[(0, 0, 0), (0, 3, 1), (3, 0, 2), (3, 3, 3)]\n",
      "best_l 8\n",
      "Wall time: 22.6 s\n"
     ]
    }
   ],
   "source": [
    "%%time\n",
    "best_coords_sol, best_l = optimize(w, n, dimsX, dimsY)"
   ]
  },
  {
   "cell_type": "code",
   "execution_count": 431,
   "id": "32e1750e",
   "metadata": {},
   "outputs": [
    {
     "name": "stdout",
     "output_type": "stream",
     "text": [
      "16\n",
      "[(5, 0, 0), (5, 3, 1), (3, 8, 2), (3, 11, 3)]\n",
      "best_l 16\n",
      "15\n",
      "[(2, 4, 0), (5, 2, 1), (3, 7, 2), (3, 10, 3)]\n",
      "best_l 15\n",
      "14\n",
      "[(2, 3, 0), (5, 1, 1), (3, 6, 2), (3, 9, 3)]\n",
      "best_l 14\n",
      "13\n",
      "[(2, 2, 0), (5, 0, 1), (3, 5, 2), (3, 8, 3)]\n",
      "best_l 13\n",
      "12\n",
      "[(5, 1, 0), (0, 7, 1), (3, 4, 2), (3, 7, 3)]\n",
      "best_l 12\n",
      "11\n",
      "[(5, 0, 0), (0, 6, 1), (3, 3, 2), (3, 6, 3)]\n",
      "best_l 11\n",
      "10\n",
      "[(0, 2, 0), (0, 5, 1), (3, 2, 2), (3, 5, 3)]\n",
      "best_l 10\n",
      "9\n",
      "[(0, 1, 0), (0, 4, 1), (3, 1, 2), (3, 4, 3)]\n",
      "best_l 9\n",
      "8\n",
      "[(0, 0, 0), (0, 3, 1), (3, 5, 2), (3, 0, 3)]\n",
      "best_l 8\n",
      "Wall time: 21.9 s\n"
     ]
    }
   ],
   "source": [
    "%%time\n",
    "best_coords_sol, best_l = optimize(w, n, dimsX, dimsY)"
   ]
  },
  {
   "cell_type": "code",
   "execution_count": 420,
   "id": "7f983169",
   "metadata": {},
   "outputs": [
    {
     "data": {
      "text/plain": [
       "[(0, 0, 0), (0, 3, 1), (3, 0, 2), (3, 3, 3)]"
      ]
     },
     "execution_count": 420,
     "metadata": {},
     "output_type": "execute_result"
    }
   ],
   "source": [
    "best_coords_sol"
   ]
  },
  {
   "cell_type": "code",
   "execution_count": 421,
   "id": "d724a9df",
   "metadata": {},
   "outputs": [
    {
     "data": {
      "image/png": "[encoded data removed]",
      "text/plain": [
       "<Figure size 432x288 with 1 Axes>"
      ]
     },
     "metadata": {
      "needs_background": "light"
     },
     "output_type": "display_data"
    }
   ],
   "source": [
    "visualize(w, sum(dimsY), n, dims, best_coords_sol)"
   ]
  },
  {
   "cell_type": "code",
   "execution_count": null,
   "id": "486aad57",
   "metadata": {},
   "outputs": [],
   "source": []
  },
  {
   "cell_type": "code",
   "execution_count": null,
   "id": "8a4fc24f",
   "metadata": {},
   "outputs": [],
   "source": []
  }
 ],
 "metadata": {
  "kernelspec": {
   "display_name": "Python 3",
   "language": "python",
   "name": "python3"
  },
  "language_info": {
   "codemirror_mode": {
    "name": "ipython",
    "version": 3
   },
   "file_extension": ".py",
   "mimetype": "text/x-python",
   "name": "python",
   "nbconvert_exporter": "python",
   "pygments_lexer": "ipython3",
   "version": "3.8.8"
  }
 },
 "nbformat": 4,
 "nbformat_minor": 5
}
