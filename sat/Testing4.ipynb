{
 "cells": [
  {
   "cell_type": "code",
   "execution_count": 25,
   "id": "e86fb3f8",
   "metadata": {},
   "outputs": [],
   "source": [
    "px = [[Bool(f'px_{i}_{e}') for e in [0,1,2,3]] for i in [0,1]]\n",
    "\n",
    "s = Solver()\n",
    "\n",
    "s.add(Not(px[1][0]))\n",
    "s.add(Or(Not(px[1][1]),px[0][0]))\n",
    "s.add(Or(Not(px[1][2]),px[0][1]))\n",
    "s.add(px[0][2])\n",
    "\n",
    "s.add(Or(Not(px[0][0]),px[0][1]))\n",
    "s.add(Or(Not(px[0][1]),px[0][2]))\n",
    "s.add(Or(Not(px[1][0]),px[1][1]))\n",
    "s.add(Or(Not(px[1][1]),px[1][2]))"
   ]
  },
  {
   "cell_type": "code",
   "execution_count": 26,
   "id": "0b246e8f",
   "metadata": {},
   "outputs": [
    {
     "data": {
      "text/html": [
       "<b>sat</b>"
      ],
      "text/plain": [
       "sat"
      ]
     },
     "execution_count": 26,
     "metadata": {},
     "output_type": "execute_result"
    }
   ],
   "source": [
    "s.check()"
   ]
  },
  {
   "cell_type": "code",
   "execution_count": 27,
   "id": "34563e31",
   "metadata": {},
   "outputs": [
    {
     "data": {
      "text/html": [
       "[px_0_1 = False,\n",
       " px_1_0 = False,\n",
       " px_1_1 = False,\n",
       " px_0_2 = True,\n",
       " px_0_0 = False,\n",
       " px_1_2 = False]"
      ],
      "text/plain": [
       "[px_0_1 = False,\n",
       " px_1_0 = False,\n",
       " px_1_1 = False,\n",
       " px_0_2 = True,\n",
       " px_0_0 = False,\n",
       " px_1_2 = False]"
      ]
     },
     "execution_count": 27,
     "metadata": {},
     "output_type": "execute_result"
    }
   ],
   "source": [
    "s.model()"
   ]
  },
  {
   "cell_type": "code",
   "execution_count": 187,
   "id": "d7642132",
   "metadata": {},
   "outputs": [],
   "source": [
    "import argparse\n",
    "\n",
    "from z3 import *\n",
    "\n",
    "import numpy as np\n",
    "import matplotlib.pyplot as plt\n",
    "import matplotlib.patches as patches\n",
    "import matplotlib as mpl\n",
    "from matplotlib.collections import PatchCollection\n",
    "\n",
    "import random\n",
    "\n",
    "#python scripts\\visualize.py solution-ins-12.txt\n",
    "\n",
    "def visualize(w, l, n, dims, coords):\n",
    "    coordsX = [coords[i][0] for i in range(n)]\n",
    "    coordsY = [coords[i][1] for i in range(n)]\n",
    "    # print(w, l, n, dims, coordsX, coordsY)\n",
    "\n",
    "    fig = plt.figure()\n",
    "    ax = fig.add_subplot(111)\n",
    "\n",
    "    plt.xlim(0, w)\n",
    "    plt.ylim(0, l)\n",
    "    plt.grid(True, color='black')\n",
    "\n",
    "    myPatches = []\n",
    "    # myColors = []\n",
    "\n",
    "    for i in range(n):\n",
    "        xi_hat = coordsX[i]\n",
    "        yi_hat = coordsY[i]\n",
    "        xi = dims[i][0]\n",
    "        yi = dims[i][1]\n",
    "\n",
    "        r = patches.Rectangle((xi_hat, yi_hat), xi, yi)\n",
    "        myPatches.append(r)\n",
    "\n",
    "    collection = PatchCollection(myPatches, cmap=mpl.cm.hsv, alpha=0.5, edgecolor='black', linewidth=4)\n",
    "    collection.set_array(np.linspace(0, 254, n, dtype=int))\n",
    "    #print(np.linspace(0, 200, n, dtype=int))\n",
    "    collection.set_clim([0, 255])\n",
    "    ax.add_collection(collection)\n",
    "\n",
    "    plt.xticks(range(w+1))\n",
    "    plt.yticks(range(l+1))\n",
    "\n",
    "    plt.gca().set_aspect('equal', adjustable='box')\n",
    "\n",
    "    # fig.savefig('figure.png')\n",
    "    plt.show()\n",
    "    \n",
    "class UnsatError(BaseException):\n",
    "    pass"
   ]
  },
  {
   "cell_type": "code",
   "execution_count": 198,
   "id": "8ad409b1",
   "metadata": {},
   "outputs": [],
   "source": [
    "\"\"\"w = 8\n",
    "n = 4\n",
    "dims = [[3, 3],\n",
    "        [3, 5],\n",
    "        [5, 3],\n",
    "        [5, 5]]\"\"\"\n",
    "\"\"\"w = 4\n",
    "n = 2\n",
    "dims = [[3, 3],\n",
    "        [3, 5]]\"\"\"\n",
    "w = 16\n",
    "n = 10\n",
    "dims = [[3, 3],\n",
    "        [3, 4],\n",
    "        [3, 5],\n",
    "        [3, 6],\n",
    "        [3, 7],\n",
    "        [3, 8],\n",
    "        [3, 10],\n",
    "        [3, 12],\n",
    "        [4, 7],\n",
    "        [7, 9]]\n",
    "\"\"\"w = 17\n",
    "n = 12\n",
    "dims = [[3, 3],\n",
    "        [3, 4],\n",
    "        [3, 5],\n",
    "        [3, 6],\n",
    "        [3, 7],\n",
    "        [3, 8],\n",
    "        [3, 9],\n",
    "        [4, 3],\n",
    "        [4, 8],\n",
    "        [4, 14],\n",
    "        [7, 3],\n",
    "        [7, 6]]\"\"\"\n",
    "dimsX = [dims[i][0] for i in range(n)]\n",
    "dimsY = [dims[i][1] for i in range(n)]\n",
    "\n",
    "areas = [dimsX[i]*dimsY[i] for i in range(n)]  # The areas of the circuits\n",
    "A_tot = sum(areas)  # The overall area of all the given circuits\n",
    "h_min = min(dimsY)  # The minimum height of a circuit\n",
    "h_max = max(dimsY)  # The maximum height of a circuit\n",
    "w_min = min(dimsX)  # The minimum width of a circuit\n",
    "w_max = max(dimsX)  # The maximum width of a circuit\n",
    "l_min = max([h_max, A_tot // w])  # The lower bound for the length\n",
    "min_rects_per_row = w // w_max  # Minimum number of circuits per row\n",
    "# max_rects_per_col = ceil(n / max([1, min_rects_per_row]))  # Maximum number of circuits per column\n",
    "#l_max =  sum(sorted(dimsY)[n-max_rects_per_col:]) \n",
    "if min_rects_per_row==0:\n",
    "    raise UnsatError('UNSAT')\n",
    "sorted_dimsY = sorted(dimsY, reverse=True)  \n",
    "if min_rects_per_row==1:\n",
    "    l_max = sum(dimsY)\n",
    "else:\n",
    "    l_max = sum([sorted_dimsY[i] for i in range(n) if i % min_rects_per_row == 0])  # The upper bound for the length\n",
    "    \n",
    "# l_max = l_min"
   ]
  },
  {
   "cell_type": "code",
   "execution_count": 271,
   "id": "d54e131c",
   "metadata": {},
   "outputs": [],
   "source": [
    "def __solve(l_max):\n",
    "        \"\"\"Solves the given VLSI instance, using the SAT encoding 3.\n",
    "\n",
    "        It is an auxiliary method. Its aim is to solve the VLSI instance without performing optimization: any solution is \n",
    "        good.\n",
    "\n",
    "        Parameters\n",
    "        ----------\n",
    "        w_min : int\n",
    "            Minimum width of a circuit\n",
    "        h_min : int\n",
    "            Minimum height of a circuit\n",
    "        l_min : int\n",
    "            Lower bound of the length of the plate\n",
    "        l_max : int\n",
    "            Upper bound of the length of the plate\n",
    "\n",
    "        Returns\n",
    "        -------\n",
    "        s: z3.z3.Solver\n",
    "            The solver instance\n",
    "        coords : list of list of list of z3.z3.BoolRef\n",
    "            Boolean variables 'coord_i_j_k'.\n",
    "            See `Notes`.\n",
    "        lengths : list of list of z3.z3.BoolRef\n",
    "            Boolean variables 'length_k_l'.\n",
    "            See `Notes`.\n",
    "\n",
    "        Notes\n",
    "        ------\n",
    "        The following boolean variables are used\n",
    "        - circuit_i_j_k, where 'i' in [0,w-w_min+1], 'j' in [0,l_max-h_min+1], 'k' in [0,n]. \n",
    "          '(i,j)' represent two coordinates of the plate, 'k' represents a circuit.\n",
    "          circuit_i_j_k is True IIF the circuit 'k' is present in the cell '(i,j)' of the plate.\n",
    "        - coord_i_j_k, where 'i' in [0,w-w_min+1], 'j' in [0,l_max-h_min+1], 'k' in [0,n].\n",
    "          '(i,j)' represent two coordinates of the plate, 'k' represents a circuit.\n",
    "          coord_i_j_k is True IIF the left-bottom corner of the circuit 'k' is put in the cell '(i,j)' of the plate.\n",
    "        - length_k_l, where 'k' in [0,n] and 'l' in [0,l_max-l_min+1].\n",
    "          'k' represents a circuit, 'l' represents a length of the plate.\n",
    "           length_k_l is True IIF the circuit 'k' uses the length 'l' of the plate.\n",
    "           For going from an index 'l' of 'length_k_l' to the actual length: l+l_min-1.\n",
    "           For going from an actual length 'l' to an index of 'length_k_l': l-l_min+1.\n",
    "\n",
    "        \"\"\"\n",
    "        #w, n, dimsX, dimsY = self.w, self.n, self.dimsX, self.dimsY\n",
    "\n",
    "        s = Solver()  # Solver instance\n",
    "\n",
    "        px = [[Bool(f'px_{i}_{e}') for e in range(w)] for i in range(n)]\n",
    "        py = [[Bool(f'py_{i}_{f}') for f in range(l_max)] for i in range(n)]\n",
    "        lr = [[Bool(f'lr_{i}_{j}') for j in range(n)] for i in range(n)]\n",
    "        ud = [[Bool(f'ud_{i}_{j}') for j in range(n)] for i in range(n)]\n",
    "        \n",
    "        \"\"\"for i in range(n):\n",
    "            s.add( Or(px[i]) )\n",
    "            s.add( Or(py[i]) )\"\"\"\n",
    "\n",
    "        for i in range(n):\n",
    "            for e in range(w-dimsX[i]):  # TODO uno in meno\n",
    "                s.add( Or(Not(px[i][e]),px[i][e+1]) )\n",
    "            for e in range(w-dimsX[i],w):\n",
    "                s.add(px[i][e])\n",
    "                \n",
    "            for f in range(l_max-dimsY[i]):\n",
    "                s.add( Or(Not(py[i][f]),py[i][f+1]) )\n",
    "            for f in range(l_max-dimsY[i],l_max):\n",
    "                s.add(py[i][f])\n",
    "                \n",
    "        for i in range(n):\n",
    "            for j in range(i+1,n):\n",
    "                s.add( Or(lr[i][j],lr[j][i],ud[i][j],ud[j][i]) )\n",
    "                if w-dimsX[i]-dimsX[j] < 0:\n",
    "                    s.add( Not(lr[i][j]) )\n",
    "                    s.add( Not(lr[j][i]) )\n",
    "                else:\n",
    "                    for e in range(dimsX[i]):\n",
    "                        s.add( Or(Not(lr[i][j]),Not(px[j][e])) )\n",
    "                    for e in range(dimsX[j]):\n",
    "                        s.add( Or(Not(lr[j][i]),Not(px[i][e])) )\n",
    "                    for e in range(w-dimsX[i]-dimsX[j]+1):\n",
    "                        s.add( Or(Not(lr[i][j]), px[i][e], Not(px[j][e+dimsX[i]])) )\n",
    "                        s.add( Or(Not(lr[j][i]), px[j][e], Not(px[i][e+dimsX[j]])) )\n",
    "                    \n",
    "                \"\"\"if w-dimsX[i]-dimsX[j] < 0:\n",
    "                    s.add( Not(lr[j][i]) )\n",
    "                else:\n",
    "                    for e in range(dimsY[i]):\n",
    "                        s.add( Or(Not(lr[j][i]),Not(px[i][e])) )\n",
    "                    for e in range(w-dimsX[j]-dimsX[i]+1):\n",
    "                        s.add( Or(Not(lr[j][i]), px[j][e], Not(px[i][e+dimsX[j]])) )\"\"\"\n",
    "                    \n",
    "                if l_max-dimsY[i]-dimsY[j] < 0:\n",
    "                    s.add( Not(ud[i][j]) )\n",
    "                    s.add( Not(ud[j][i]) )\n",
    "                else:\n",
    "                    for f in range(dimsY[i]):\n",
    "                        s.add( Or(Not(ud[i][j]),Not(py[j][f])) )\n",
    "                    for f in range(dimsY[j]):\n",
    "                        s.add( Or(Not(ud[j][i]),Not(py[i][f])) )\n",
    "                    for f in range(l_max-dimsY[i]-dimsY[j]+1):\n",
    "                        s.add( Or(Not(ud[i][j]), py[i][f], Not(py[j][f+dimsY[i]])) )\n",
    "                        s.add( Or(Not(ud[j][i]), py[j][f], Not(py[i][f+dimsY[j]])) )\n",
    "                    \n",
    "                \"\"\"if l_max-dimsY[i]-dimsY[j] < 0:\n",
    "                    s.add( Not(ud[j][i]) )\n",
    "                else:\n",
    "                    for f in range(dimsY[j]):\n",
    "                        s.add( Or(Not(ud[j][i]),Not(py[i][f])) )\n",
    "                    for f in range(l_max-dimsY[j]-dimsY[i]+1):\n",
    "                        s.add( Or(Not(ud[j][i]), py[j][f], Not(py[i][f+dimsY[j]])) )\"\"\"\n",
    "                    \n",
    "        if s.check() != sat:\n",
    "            raise UnsatError('UNSAT')\n",
    "        \n",
    "        return s, px, py, lr, ud"
   ]
  },
  {
   "cell_type": "code",
   "execution_count": 272,
   "id": "d1918ed6",
   "metadata": {},
   "outputs": [],
   "source": [
    "h = 17\n",
    "s, px, py, lr, ud = __solve(l_max=h)"
   ]
  },
  {
   "cell_type": "code",
   "execution_count": 273,
   "id": "b8e4fb17",
   "metadata": {},
   "outputs": [],
   "source": [
    "m = s.model()"
   ]
  },
  {
   "cell_type": "code",
   "execution_count": 274,
   "id": "0516b847",
   "metadata": {},
   "outputs": [
    {
     "name": "stdout",
     "output_type": "stream",
     "text": [
      "False\n",
      "True\n",
      "False\n",
      "False\n"
     ]
    }
   ],
   "source": [
    "print(m.evaluate(lr[0][8], model_completion=True))\n",
    "print(m.evaluate(lr[8][0], model_completion=True))\n",
    "print(m.evaluate(ud[0][8], model_completion=True))\n",
    "print(m.evaluate(ud[8][0], model_completion=True))"
   ]
  },
  {
   "cell_type": "code",
   "execution_count": null,
   "id": "c476b7ba",
   "metadata": {},
   "outputs": [],
   "source": []
  },
  {
   "cell_type": "code",
   "execution_count": 275,
   "id": "c986efcb",
   "metadata": {},
   "outputs": [
    {
     "name": "stdout",
     "output_type": "stream",
     "text": [
      "px_0_7\n",
      "px_1_7\n",
      "px_2_0\n",
      "px_3_10\n",
      "px_4_13\n",
      "px_5_3\n",
      "px_6_6\n",
      "px_7_0\n",
      "px_8_3\n",
      "px_9_9\n"
     ]
    },
    {
     "data": {
      "text/plain": [
       "[7, 7, 0, 10, 13, 3, 6, 0, 3, 9]"
      ]
     },
     "execution_count": 275,
     "metadata": {},
     "output_type": "execute_result"
    }
   ],
   "source": [
    "coordsX = []\n",
    "for i in range(n):\n",
    "    for e in range(w):\n",
    "        if m.evaluate(px[i][e], model_completion=True):\n",
    "            coordsX.append(e)\n",
    "            print(px[i][e])\n",
    "            break\n",
    "coordsX"
   ]
  },
  {
   "cell_type": "code",
   "execution_count": 276,
   "id": "285edf97",
   "metadata": {},
   "outputs": [
    {
     "name": "stdout",
     "output_type": "stream",
     "text": [
      "py_0_14\n",
      "py_1_10\n",
      "py_2_0\n",
      "py_3_11\n",
      "py_4_10\n",
      "py_5_2\n",
      "py_6_0\n",
      "py_7_5\n",
      "py_8_10\n",
      "py_9_0\n"
     ]
    },
    {
     "data": {
      "text/plain": [
       "[14, 10, 0, 11, 10, 2, 0, 5, 10, 0]"
      ]
     },
     "execution_count": 276,
     "metadata": {},
     "output_type": "execute_result"
    }
   ],
   "source": [
    "coordsY = []\n",
    "for i in range(n):\n",
    "    for f in range(l_max):\n",
    "        if m.evaluate(py[i][f], model_completion=True):\n",
    "            coordsY.append(f)\n",
    "            print(py[i][f])\n",
    "            break\n",
    "coordsY"
   ]
  },
  {
   "cell_type": "code",
   "execution_count": 277,
   "id": "5ba10006",
   "metadata": {},
   "outputs": [
    {
     "data": {
      "text/plain": [
       "[(7, 14),\n",
       " (7, 10),\n",
       " (0, 0),\n",
       " (10, 11),\n",
       " (13, 10),\n",
       " (3, 2),\n",
       " (6, 0),\n",
       " (0, 5),\n",
       " (3, 10),\n",
       " (9, 0)]"
      ]
     },
     "execution_count": 277,
     "metadata": {},
     "output_type": "execute_result"
    }
   ],
   "source": [
    "coords = zip(coordsX, coordsY)\n",
    "coords = list(coords)\n",
    "coords"
   ]
  },
  {
   "cell_type": "code",
   "execution_count": 278,
   "id": "d7795771",
   "metadata": {},
   "outputs": [],
   "source": [
    "coords = []\n",
    "for i in range(n):\n",
    "    for e in range(w):\n",
    "        if m.evaluate(px[i][e], model_completion=True):\n",
    "            coordX = e\n",
    "            break\n",
    "    for f in range(l_max):\n",
    "        if m.evaluate(py[i][f], model_completion=True):\n",
    "            coordY = f\n",
    "            break\n",
    "    coords.append((coordX,coordY))"
   ]
  },
  {
   "cell_type": "code",
   "execution_count": 279,
   "id": "afeeef9d",
   "metadata": {},
   "outputs": [
    {
     "data": {
      "image/png": "[encoded data removed]",
      "text/plain": [
       "<Figure size 432x288 with 1 Axes>"
      ]
     },
     "metadata": {
      "needs_background": "light"
     },
     "output_type": "display_data"
    }
   ],
   "source": [
    "visualize(w, h, n, dims, coords)"
   ]
  },
  {
   "cell_type": "code",
   "execution_count": 197,
   "id": "71638102",
   "metadata": {},
   "outputs": [
    {
     "data": {
      "image/png": "[encoded data removed]",
      "text/plain": [
       "<Figure size 432x288 with 1 Axes>"
      ]
     },
     "metadata": {
      "needs_background": "light"
     },
     "output_type": "display_data"
    }
   ],
   "source": [
    "visualize(w, l_max, n, dims, coords)"
   ]
  },
  {
   "cell_type": "code",
   "execution_count": null,
   "id": "66f0a920",
   "metadata": {},
   "outputs": [],
   "source": []
  },
  {
   "cell_type": "code",
   "execution_count": 337,
   "id": "3fc7a219",
   "metadata": {},
   "outputs": [],
   "source": [
    "def __solve(h):\n",
    "        \"\"\"Solves the given VLSI instance, using the SAT encoding 3.\n",
    "\n",
    "        It is an auxiliary method. Its aim is to solve the VLSI instance without performing optimization: any solution is \n",
    "        good.\n",
    "\n",
    "        Parameters\n",
    "        ----------\n",
    "        w_min : int\n",
    "            Minimum width of a circuit\n",
    "        h_min : int\n",
    "            Minimum height of a circuit\n",
    "        l_min : int\n",
    "            Lower bound of the length of the plate\n",
    "        l_max : int\n",
    "            Upper bound of the length of the plate\n",
    "\n",
    "        Returns\n",
    "        -------\n",
    "        s: z3.z3.Solver\n",
    "            The solver instance\n",
    "        coords : list of list of list of z3.z3.BoolRef\n",
    "            Boolean variables 'coord_i_j_k'.\n",
    "            See `Notes`.\n",
    "        lengths : list of list of z3.z3.BoolRef\n",
    "            Boolean variables 'length_k_l'.\n",
    "            See `Notes`.\n",
    "\n",
    "        Notes\n",
    "        ------\n",
    "        The following boolean variables are used\n",
    "        - circuit_i_j_k, where 'i' in [0,w-w_min+1], 'j' in [0,l_max-h_min+1], 'k' in [0,n]. \n",
    "          '(i,j)' represent two coordinates of the plate, 'k' represents a circuit.\n",
    "          circuit_i_j_k is True IIF the circuit 'k' is present in the cell '(i,j)' of the plate.\n",
    "        - coord_i_j_k, where 'i' in [0,w-w_min+1], 'j' in [0,l_max-h_min+1], 'k' in [0,n].\n",
    "          '(i,j)' represent two coordinates of the plate, 'k' represents a circuit.\n",
    "          coord_i_j_k is True IIF the left-bottom corner of the circuit 'k' is put in the cell '(i,j)' of the plate.\n",
    "        - length_k_l, where 'k' in [0,n] and 'l' in [0,l_max-l_min+1].\n",
    "          'k' represents a circuit, 'l' represents a length of the plate.\n",
    "           length_k_l is True IIF the circuit 'k' uses the length 'l' of the plate.\n",
    "           For going from an index 'l' of 'length_k_l' to the actual length: l+l_min-1.\n",
    "           For going from an actual length 'l' to an index of 'length_k_l': l-l_min+1.\n",
    "\n",
    "        \"\"\"\n",
    "        #w, n, dimsX, dimsY = self.w, self.n, self.dimsX, self.dimsY\n",
    "        \n",
    "        if h<l_min:\n",
    "            raise UnsatError('UNSAT')\n",
    "\n",
    "        s = Solver()  # Solver instance\n",
    "        s.set(timeout=1)\n",
    "\n",
    "        px = [[Bool(f'px_{i}_{e}') for e in range(w)] for i in range(n)]\n",
    "        py = [[Bool(f'py_{i}_{f}') for f in range(l_max)] for i in range(n)]\n",
    "        lr = [[Bool(f'lr_{i}_{j}') for j in range(n)] for i in range(n)]\n",
    "        ud = [[Bool(f'ud_{i}_{j}') for j in range(n)] for i in range(n)]\n",
    "        \n",
    "        ph = [Bool(f'ph_{o}') for o in range(l_max-l_min)]\n",
    "        \n",
    "        s.add( ph[h-l_min] )\n",
    "        \n",
    "        \"\"\"for i in range(n):\n",
    "            s.add( Or(px[i]) )\n",
    "            s.add( Or(py[i]) )\"\"\"\n",
    "\n",
    "        for i in range(n):\n",
    "            for e in range(w-dimsX[i]):\n",
    "                s.add( Or(Not(px[i][e]),px[i][e+1]) )\n",
    "            for e in range(w-dimsX[i],w):\n",
    "                s.add(px[i][e])\n",
    "            for f in range(l_max-dimsY[i]):\n",
    "                s.add( Or(Not(py[i][f]),py[i][f+1]) )\n",
    "            for f in range(l_max-dimsY[i],l_max):\n",
    "                s.add(py[i][f])\n",
    "                \n",
    "        for i in range(n):\n",
    "            for j in range(i+1,n):\n",
    "                s.add( Or(lr[i][j],lr[j][i],ud[i][j],ud[j][i]) )\n",
    "                if w-dimsX[i]-dimsX[j] < 0:\n",
    "                    s.add( Not(lr[i][j]) )\n",
    "                    s.add( Not(lr[j][i]) )\n",
    "                else:\n",
    "                    for e in range(dimsX[i]):\n",
    "                        s.add( Or(Not(lr[i][j]),Not(px[j][e])) )\n",
    "                    for e in range(dimsX[j]):\n",
    "                        s.add( Or(Not(lr[j][i]),Not(px[i][e])) )\n",
    "                    for e in range(w-dimsX[i]-dimsX[j]+1):\n",
    "                        s.add( Or(Not(lr[i][j]), px[i][e], Not(px[j][e+dimsX[i]])) )\n",
    "                        s.add( Or(Not(lr[j][i]), px[j][e], Not(px[i][e+dimsX[j]])) )\n",
    "                    \n",
    "                \"\"\"if w-dimsX[i]-dimsX[j] < 0:\n",
    "                    s.add( Not(lr[j][i]) )\n",
    "                else:\n",
    "                    for e in range(dimsY[i]):\n",
    "                        s.add( Or(Not(lr[j][i]),Not(px[i][e])) )\n",
    "                    for e in range(w-dimsX[j]-dimsX[i]+1):\n",
    "                        s.add( Or(Not(lr[j][i]), px[j][e], Not(px[i][e+dimsX[j]])) )\"\"\"\n",
    "                    \n",
    "                if l_max-dimsY[i]-dimsY[j] < 0:\n",
    "                    s.add( Not(ud[i][j]) )\n",
    "                    s.add( Not(ud[j][i]) )\n",
    "                else:\n",
    "                    for f in range(dimsY[i]):\n",
    "                        s.add( Or(Not(ud[i][j]),Not(py[j][f])) )\n",
    "                    for f in range(dimsY[j]):\n",
    "                        s.add( Or(Not(ud[j][i]),Not(py[i][f])) )\n",
    "                    for f in range(l_max-dimsY[i]-dimsY[j]+1):\n",
    "                        s.add( Or(Not(ud[i][j]), py[i][f], Not(py[j][f+dimsY[i]])) )\n",
    "                        s.add( Or(Not(ud[j][i]), py[j][f], Not(py[i][f+dimsY[j]])) )\n",
    "                    \n",
    "                \"\"\"if l_max-dimsY[i]-dimsY[j] < 0:\n",
    "                    s.add( Not(ud[j][i]) )\n",
    "                else:\n",
    "                    for f in range(dimsY[j]):\n",
    "                        s.add( Or(Not(ud[j][i]),Not(py[i][f])) )\n",
    "                    for f in range(l_max-dimsY[j]-dimsY[i]+1):\n",
    "                        s.add( Or(Not(ud[j][i]), py[j][f], Not(py[i][f+dimsY[j]])) )\"\"\"\n",
    "                \n",
    "        for i in range(n):\n",
    "            for o in range(l_max-l_min):\n",
    "                s.add( Or(Not(ph[o]),py[i][o+l_min-dimsY[i]]) )\n",
    "        for o in range(l_max-l_min-1):\n",
    "            s.add( Or(Not(ph[o]),ph[o+1]) )\n",
    "                    \n",
    "        if s.check() != sat:\n",
    "            raise UnsatError('UNSAT')\n",
    "        \n",
    "        return s, px, py, lr, ud, ph"
   ]
  },
  {
   "cell_type": "code",
   "execution_count": 338,
   "id": "75459e0d",
   "metadata": {},
   "outputs": [],
   "source": [
    "h = 17\n",
    "s, px, py, lr, ud, ph = __solve(h=h)"
   ]
  },
  {
   "cell_type": "code",
   "execution_count": 339,
   "id": "d14a59c6",
   "metadata": {},
   "outputs": [],
   "source": [
    "m = s.model()"
   ]
  },
  {
   "cell_type": "code",
   "execution_count": 340,
   "id": "a64c322b",
   "metadata": {},
   "outputs": [
    {
     "data": {
      "text/plain": [
       "(38, 16)"
      ]
     },
     "execution_count": 340,
     "metadata": {},
     "output_type": "execute_result"
    }
   ],
   "source": [
    "l_max, l_min"
   ]
  },
  {
   "cell_type": "code",
   "execution_count": 341,
   "id": "823e0396",
   "metadata": {},
   "outputs": [
    {
     "name": "stdout",
     "output_type": "stream",
     "text": [
      "1\n",
      "2\n",
      "3\n",
      "4\n",
      "5\n",
      "6\n",
      "7\n",
      "8\n",
      "9\n",
      "10\n",
      "11\n",
      "12\n",
      "13\n",
      "14\n",
      "15\n",
      "16\n",
      "17\n",
      "18\n",
      "19\n",
      "20\n",
      "21\n"
     ]
    }
   ],
   "source": [
    "for o in range(l_max-l_min):\n",
    "    if m.evaluate(ph[o]):\n",
    "        print(o)"
   ]
  },
  {
   "cell_type": "code",
   "execution_count": 342,
   "id": "936136e6",
   "metadata": {},
   "outputs": [
    {
     "name": "stdout",
     "output_type": "stream",
     "text": [
      "True\n"
     ]
    }
   ],
   "source": [
    "print(m.evaluate(ph[h-l_min]))"
   ]
  },
  {
   "cell_type": "code",
   "execution_count": 343,
   "id": "fc62cebe",
   "metadata": {},
   "outputs": [
    {
     "data": {
      "text/plain": [
       "1"
      ]
     },
     "execution_count": 343,
     "metadata": {},
     "output_type": "execute_result"
    }
   ],
   "source": [
    "h-l_min"
   ]
  },
  {
   "cell_type": "code",
   "execution_count": 345,
   "id": "d7cfaec8",
   "metadata": {},
   "outputs": [],
   "source": [
    "coords = []\n",
    "for i in range(n):\n",
    "    for e in range(w):\n",
    "        if m.evaluate(px[i][e], model_completion=True):\n",
    "            coordX = e\n",
    "            break\n",
    "    for f in range(l_max):\n",
    "        if m.evaluate(py[i][f], model_completion=True):\n",
    "            coordY = f\n",
    "            break\n",
    "    coords.append((coordX,coordY))"
   ]
  },
  {
   "cell_type": "code",
   "execution_count": 346,
   "id": "725d76e3",
   "metadata": {},
   "outputs": [
    {
     "data": {
      "text/plain": [
       "[(13, 14),\n",
       " (13, 10),\n",
       " (0, 0),\n",
       " (7, 11),\n",
       " (10, 10),\n",
       " (3, 2),\n",
       " (6, 0),\n",
       " (0, 5),\n",
       " (3, 10),\n",
       " (9, 1)]"
      ]
     },
     "execution_count": 346,
     "metadata": {},
     "output_type": "execute_result"
    }
   ],
   "source": [
    "coords"
   ]
  },
  {
   "cell_type": "code",
   "execution_count": 347,
   "id": "dd7d2713",
   "metadata": {},
   "outputs": [
    {
     "data": {
      "image/png": "[encoded data removed]",
      "text/plain": [
       "<Figure size 432x288 with 1 Axes>"
      ]
     },
     "metadata": {
      "needs_background": "light"
     },
     "output_type": "display_data"
    }
   ],
   "source": [
    "visualize(w, h, n, dims, coords)"
   ]
  },
  {
   "cell_type": "code",
   "execution_count": null,
   "id": "264024fa",
   "metadata": {},
   "outputs": [],
   "source": []
  },
  {
   "cell_type": "code",
   "execution_count": null,
   "id": "12973191",
   "metadata": {},
   "outputs": [],
   "source": []
  },
  {
   "cell_type": "code",
   "execution_count": null,
   "id": "d07c8615",
   "metadata": {},
   "outputs": [],
   "source": []
  },
  {
   "cell_type": "code",
   "execution_count": null,
   "id": "62259131",
   "metadata": {},
   "outputs": [],
   "source": []
  },
  {
   "cell_type": "code",
   "execution_count": null,
   "id": "1fb99723",
   "metadata": {},
   "outputs": [],
   "source": []
  }
 ],
 "metadata": {
  "kernelspec": {
   "display_name": "Python 3",
   "language": "python",
   "name": "python3"
  },
  "language_info": {
   "codemirror_mode": {
    "name": "ipython",
    "version": 3
   },
   "file_extension": ".py",
   "mimetype": "text/x-python",
   "name": "python",
   "nbconvert_exporter": "python",
   "pygments_lexer": "ipython3",
   "version": "3.8.8"
  }
 },
 "nbformat": 4,
 "nbformat_minor": 5
}
